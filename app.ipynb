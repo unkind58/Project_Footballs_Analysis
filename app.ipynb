{
 "cells": [
  {
   "cell_type": "markdown",
   "metadata": {},
   "source": [
    "<img src ='footballs.jpg'>"
   ]
  },
  {
   "cell_type": "markdown",
   "metadata": {},
   "source": [
    "## Footballs analysis"
   ]
  },
  {
   "cell_type": "markdown",
   "metadata": {},
   "source": [
    "Here I am analyzing footballs, their prices, variety and diversity from online shop https://pigu.lt/.\n",
    "Data of scrapping the information: 2020-10-05. Overall there are 123 balls presenting 15 brands: Adidas, Puma, Spokey, Get & Go, Select, Meteor, Molten, Nike, Umbro, Atom, Real Madrid, Messi, FC Barcelona, Hudora, Avento."
   ]
  },
  {
   "cell_type": "code",
   "execution_count": 1,
   "metadata": {},
   "outputs": [],
   "source": [
    "import pathlib\n",
    "import numpy as np\n",
    "import pandas as pd\n",
    "import matplotlib\n",
    "import matplotlib.pyplot as plt\n",
    "import seaborn as sns\n",
    "from itertools import chain"
   ]
  },
  {
   "cell_type": "code",
   "execution_count": 2,
   "metadata": {},
   "outputs": [],
   "source": [
    "data_path = pathlib.Path('Data\\\\footballs.csv')"
   ]
  },
  {
   "cell_type": "code",
   "execution_count": 3,
   "metadata": {},
   "outputs": [],
   "source": [
    "types = {'id': 'int64',\n",
    "         'price_2020_10_05': 'float32',\n",
    "         'item_nbr': 'int32',\n",
    "         'size_1': 'int8',\n",
    "         'size_2': 'int8',\n",
    "         'size_3': 'int8',\n",
    "         'size_4': 'int8',\n",
    "         'size_5': 'int8',\n",
    "         'natural_grass': 'int8',\n",
    "         'artifical_grass': 'int8',\n",
    "         'futsal': 'int8'}"
   ]
  },
  {
   "cell_type": "markdown",
   "metadata": {},
   "source": [
    "As for NaN values:\n",
    "\n",
    "* Brand - 1\n",
    "* size_1 - 3\n",
    "* size_2 - 3\n",
    "* size_3 - 3\n",
    "* size_4 - 3\n",
    "* size_5 - 3\n",
    "* natural_grass - 70\n",
    "* artifical_grass - 70\n",
    "* futsal - 70\n",
    "* major_material - 6\n",
    "\n",
    "\n",
    "One missed brand is 'Messi' brand, model was found via Google. <br>\n",
    "Missing sizes were taken as '0' for all except **sizes_5**. <br>\n",
    "As for nature of the grass - marked '0' for all except **natural_grass**. <br>\n",
    "As for missing material data: default fillings are in *major_material_NaN.txt* file in Data folder. <br>\n",
    "All NaN's were changed directly in the .csv file."
   ]
  },
  {
   "cell_type": "code",
   "execution_count": 4,
   "metadata": {
    "scrolled": true
   },
   "outputs": [
    {
     "name": "stdout",
     "output_type": "stream",
     "text": [
      "Total rows: 123, total columns: 17.\n",
      "Null values:\n"
     ]
    },
    {
     "data": {
      "text/plain": [
       "name                0\n",
       "color               0\n",
       "id                  0\n",
       "price_2020_10_05    0\n",
       "weight              0\n",
       "package             0\n",
       "brand               0\n",
       "size_1              0\n",
       "size_2              0\n",
       "size_3              0\n",
       "size_4              0\n",
       "size_5              0\n",
       "natural_grass       0\n",
       "artifical_grass     0\n",
       "futsal              0\n",
       "major_material      0\n",
       "comments            0\n",
       "dtype: int64"
      ]
     },
     "execution_count": 4,
     "metadata": {},
     "output_type": "execute_result"
    }
   ],
   "source": [
    "df_footballs = pd.read_csv(data_path, dtype=types)\n",
    "print('Total rows:', str(df_footballs.shape[0]) + ', total columns:',str(df_footballs.shape[1]) + \".\")\n",
    "print('Null values:')\n",
    "df_footballs.isnull().sum()"
   ]
  },
  {
   "cell_type": "code",
   "execution_count": 5,
   "metadata": {},
   "outputs": [
    {
     "data": {
      "text/html": [
       "<div>\n",
       "<style scoped>\n",
       "    .dataframe tbody tr th:only-of-type {\n",
       "        vertical-align: middle;\n",
       "    }\n",
       "\n",
       "    .dataframe tbody tr th {\n",
       "        vertical-align: top;\n",
       "    }\n",
       "\n",
       "    .dataframe thead th {\n",
       "        text-align: right;\n",
       "    }\n",
       "</style>\n",
       "<table border=\"1\" class=\"dataframe\">\n",
       "  <thead>\n",
       "    <tr style=\"text-align: right;\">\n",
       "      <th></th>\n",
       "      <th>name</th>\n",
       "      <th>color</th>\n",
       "      <th>id</th>\n",
       "      <th>price_2020_10_05</th>\n",
       "      <th>weight</th>\n",
       "      <th>package</th>\n",
       "      <th>brand</th>\n",
       "      <th>size_1</th>\n",
       "      <th>size_2</th>\n",
       "      <th>size_3</th>\n",
       "      <th>size_4</th>\n",
       "      <th>size_5</th>\n",
       "      <th>natural_grass</th>\n",
       "      <th>artifical_grass</th>\n",
       "      <th>futsal</th>\n",
       "      <th>major_material</th>\n",
       "      <th>comments</th>\n",
       "    </tr>\n",
       "  </thead>\n",
       "  <tbody>\n",
       "    <tr>\n",
       "      <th>0</th>\n",
       "      <td>Puma Play</td>\n",
       "      <td>orange</td>\n",
       "      <td>31961037</td>\n",
       "      <td>11.950000</td>\n",
       "      <td>0.40</td>\n",
       "      <td>0.19x0.19x0.04</td>\n",
       "      <td>Puma</td>\n",
       "      <td>0</td>\n",
       "      <td>0</td>\n",
       "      <td>1</td>\n",
       "      <td>1</td>\n",
       "      <td>1</td>\n",
       "      <td>1</td>\n",
       "      <td>0</td>\n",
       "      <td>0</td>\n",
       "      <td>EVA</td>\n",
       "      <td>0</td>\n",
       "    </tr>\n",
       "    <tr>\n",
       "      <th>1</th>\n",
       "      <td>Puma Spin</td>\n",
       "      <td>orange</td>\n",
       "      <td>31961052</td>\n",
       "      <td>14.950000</td>\n",
       "      <td>0.42</td>\n",
       "      <td>0.2x0.2x0.04</td>\n",
       "      <td>Puma</td>\n",
       "      <td>0</td>\n",
       "      <td>0</td>\n",
       "      <td>1</td>\n",
       "      <td>1</td>\n",
       "      <td>1</td>\n",
       "      <td>1</td>\n",
       "      <td>1</td>\n",
       "      <td>1</td>\n",
       "      <td>TPU</td>\n",
       "      <td>0</td>\n",
       "    </tr>\n",
       "    <tr>\n",
       "      <th>2</th>\n",
       "      <td>Puma Spin</td>\n",
       "      <td>black</td>\n",
       "      <td>31961072</td>\n",
       "      <td>12.990000</td>\n",
       "      <td>0.40</td>\n",
       "      <td>0.2x0.2x0.04</td>\n",
       "      <td>Puma</td>\n",
       "      <td>0</td>\n",
       "      <td>0</td>\n",
       "      <td>0</td>\n",
       "      <td>1</td>\n",
       "      <td>1</td>\n",
       "      <td>1</td>\n",
       "      <td>1</td>\n",
       "      <td>1</td>\n",
       "      <td>TPU</td>\n",
       "      <td>0</td>\n",
       "    </tr>\n",
       "    <tr>\n",
       "      <th>3</th>\n",
       "      <td>Adidas Team J350</td>\n",
       "      <td>mix</td>\n",
       "      <td>28649595</td>\n",
       "      <td>27.950001</td>\n",
       "      <td>0.10</td>\n",
       "      <td>0.1x0.1x0.1</td>\n",
       "      <td>Adidas</td>\n",
       "      <td>0</td>\n",
       "      <td>0</td>\n",
       "      <td>0</td>\n",
       "      <td>1</td>\n",
       "      <td>0</td>\n",
       "      <td>1</td>\n",
       "      <td>0</td>\n",
       "      <td>0</td>\n",
       "      <td>TPU</td>\n",
       "      <td>0</td>\n",
       "    </tr>\n",
       "    <tr>\n",
       "      <th>4</th>\n",
       "      <td>Puma Future Flash Ball</td>\n",
       "      <td>mix</td>\n",
       "      <td>28439980</td>\n",
       "      <td>20.950001</td>\n",
       "      <td>0.10</td>\n",
       "      <td>0.1x0.1x0.1</td>\n",
       "      <td>Puma</td>\n",
       "      <td>0</td>\n",
       "      <td>0</td>\n",
       "      <td>0</td>\n",
       "      <td>1</td>\n",
       "      <td>1</td>\n",
       "      <td>1</td>\n",
       "      <td>0</td>\n",
       "      <td>0</td>\n",
       "      <td>TPU</td>\n",
       "      <td>0</td>\n",
       "    </tr>\n",
       "    <tr>\n",
       "      <th>...</th>\n",
       "      <td>...</td>\n",
       "      <td>...</td>\n",
       "      <td>...</td>\n",
       "      <td>...</td>\n",
       "      <td>...</td>\n",
       "      <td>...</td>\n",
       "      <td>...</td>\n",
       "      <td>...</td>\n",
       "      <td>...</td>\n",
       "      <td>...</td>\n",
       "      <td>...</td>\n",
       "      <td>...</td>\n",
       "      <td>...</td>\n",
       "      <td>...</td>\n",
       "      <td>...</td>\n",
       "      <td>...</td>\n",
       "      <td>...</td>\n",
       "    </tr>\n",
       "    <tr>\n",
       "      <th>118</th>\n",
       "      <td>Puma One Strap Ball</td>\n",
       "      <td>mix</td>\n",
       "      <td>28440235</td>\n",
       "      <td>20.950001</td>\n",
       "      <td>0.10</td>\n",
       "      <td>0.1x0.1x0.1</td>\n",
       "      <td>Puma</td>\n",
       "      <td>0</td>\n",
       "      <td>0</td>\n",
       "      <td>0</td>\n",
       "      <td>1</td>\n",
       "      <td>1</td>\n",
       "      <td>1</td>\n",
       "      <td>0</td>\n",
       "      <td>0</td>\n",
       "      <td>TPU</td>\n",
       "      <td>0</td>\n",
       "    </tr>\n",
       "    <tr>\n",
       "      <th>119</th>\n",
       "      <td>Adidas Uefa Mini</td>\n",
       "      <td>mix</td>\n",
       "      <td>28440345</td>\n",
       "      <td>15.950000</td>\n",
       "      <td>0.10</td>\n",
       "      <td>0.1x0.1x0.1</td>\n",
       "      <td>Adidas</td>\n",
       "      <td>1</td>\n",
       "      <td>0</td>\n",
       "      <td>0</td>\n",
       "      <td>0</td>\n",
       "      <td>0</td>\n",
       "      <td>1</td>\n",
       "      <td>0</td>\n",
       "      <td>0</td>\n",
       "      <td>TPU</td>\n",
       "      <td>0</td>\n",
       "    </tr>\n",
       "    <tr>\n",
       "      <th>120</th>\n",
       "      <td>Puma Final 6 MS Trainer White Yellow</td>\n",
       "      <td>yellow</td>\n",
       "      <td>28443445</td>\n",
       "      <td>19.950001</td>\n",
       "      <td>0.10</td>\n",
       "      <td>0.1x0.1x0.1</td>\n",
       "      <td>Puma</td>\n",
       "      <td>0</td>\n",
       "      <td>0</td>\n",
       "      <td>0</td>\n",
       "      <td>1</td>\n",
       "      <td>0</td>\n",
       "      <td>1</td>\n",
       "      <td>0</td>\n",
       "      <td>0</td>\n",
       "      <td>TPU</td>\n",
       "      <td>0</td>\n",
       "    </tr>\n",
       "    <tr>\n",
       "      <th>121</th>\n",
       "      <td>Get &amp; Go 16SY</td>\n",
       "      <td>mix</td>\n",
       "      <td>28469525</td>\n",
       "      <td>5.490000</td>\n",
       "      <td>0.30</td>\n",
       "      <td>0.21x0.21x0.1</td>\n",
       "      <td>Get &amp; Go</td>\n",
       "      <td>0</td>\n",
       "      <td>0</td>\n",
       "      <td>0</td>\n",
       "      <td>0</td>\n",
       "      <td>1</td>\n",
       "      <td>1</td>\n",
       "      <td>0</td>\n",
       "      <td>0</td>\n",
       "      <td>PVC</td>\n",
       "      <td>0</td>\n",
       "    </tr>\n",
       "    <tr>\n",
       "      <th>122</th>\n",
       "      <td>Get &amp; Go 16SY</td>\n",
       "      <td>mix</td>\n",
       "      <td>28469535</td>\n",
       "      <td>5.490000</td>\n",
       "      <td>0.30</td>\n",
       "      <td>0.21x0.21x0.1</td>\n",
       "      <td>Get &amp; Go</td>\n",
       "      <td>0</td>\n",
       "      <td>0</td>\n",
       "      <td>0</td>\n",
       "      <td>0</td>\n",
       "      <td>1</td>\n",
       "      <td>1</td>\n",
       "      <td>0</td>\n",
       "      <td>0</td>\n",
       "      <td>PVC</td>\n",
       "      <td>0</td>\n",
       "    </tr>\n",
       "  </tbody>\n",
       "</table>\n",
       "<p>123 rows × 17 columns</p>\n",
       "</div>"
      ],
      "text/plain": [
       "                                     name   color        id  price_2020_10_05  \\\n",
       "0                               Puma Play  orange  31961037         11.950000   \n",
       "1                               Puma Spin  orange  31961052         14.950000   \n",
       "2                               Puma Spin   black  31961072         12.990000   \n",
       "3                        Adidas Team J350     mix  28649595         27.950001   \n",
       "4                  Puma Future Flash Ball     mix  28439980         20.950001   \n",
       "..                                    ...     ...       ...               ...   \n",
       "118                   Puma One Strap Ball     mix  28440235         20.950001   \n",
       "119                      Adidas Uefa Mini     mix  28440345         15.950000   \n",
       "120  Puma Final 6 MS Trainer White Yellow  yellow  28443445         19.950001   \n",
       "121                         Get & Go 16SY     mix  28469525          5.490000   \n",
       "122                         Get & Go 16SY     mix  28469535          5.490000   \n",
       "\n",
       "     weight         package     brand  size_1  size_2  size_3  size_4  size_5  \\\n",
       "0      0.40  0.19x0.19x0.04      Puma       0       0       1       1       1   \n",
       "1      0.42    0.2x0.2x0.04      Puma       0       0       1       1       1   \n",
       "2      0.40    0.2x0.2x0.04      Puma       0       0       0       1       1   \n",
       "3      0.10     0.1x0.1x0.1    Adidas       0       0       0       1       0   \n",
       "4      0.10     0.1x0.1x0.1      Puma       0       0       0       1       1   \n",
       "..      ...             ...       ...     ...     ...     ...     ...     ...   \n",
       "118    0.10     0.1x0.1x0.1      Puma       0       0       0       1       1   \n",
       "119    0.10     0.1x0.1x0.1    Adidas       1       0       0       0       0   \n",
       "120    0.10     0.1x0.1x0.1      Puma       0       0       0       1       0   \n",
       "121    0.30   0.21x0.21x0.1  Get & Go       0       0       0       0       1   \n",
       "122    0.30   0.21x0.21x0.1  Get & Go       0       0       0       0       1   \n",
       "\n",
       "     natural_grass  artifical_grass  futsal major_material  comments  \n",
       "0                1                0       0            EVA         0  \n",
       "1                1                1       1            TPU         0  \n",
       "2                1                1       1            TPU         0  \n",
       "3                1                0       0            TPU         0  \n",
       "4                1                0       0            TPU         0  \n",
       "..             ...              ...     ...            ...       ...  \n",
       "118              1                0       0            TPU         0  \n",
       "119              1                0       0            TPU         0  \n",
       "120              1                0       0            TPU         0  \n",
       "121              1                0       0            PVC         0  \n",
       "122              1                0       0            PVC         0  \n",
       "\n",
       "[123 rows x 17 columns]"
      ]
     },
     "execution_count": 5,
     "metadata": {},
     "output_type": "execute_result"
    }
   ],
   "source": [
    "df_footballs"
   ]
  },
  {
   "cell_type": "code",
   "execution_count": 6,
   "metadata": {},
   "outputs": [
    {
     "data": {
      "text/plain": [
       "TPU                  57\n",
       "PVC                  32\n",
       "PU                   15\n",
       "Rubber               14\n",
       "Filcas                2\n",
       "PET                   1\n",
       "Artifical leather     1\n",
       "EVA                   1\n",
       "Name: major_material, dtype: int64"
      ]
     },
     "execution_count": 6,
     "metadata": {},
     "output_type": "execute_result"
    }
   ],
   "source": [
    "df_footballs.major_material.value_counts()"
   ]
  },
  {
   "cell_type": "code",
   "execution_count": 7,
   "metadata": {},
   "outputs": [
    {
     "name": "stdout",
     "output_type": "stream",
     "text": [
      "Median is:  19.95\n",
      "Mean is:  19.3\n"
     ]
    }
   ],
   "source": [
    "print('Median is: ', round(df_footballs['price_2020_10_05'].median(),2))\n",
    "print('Mean is: ', round(df_footballs['price_2020_10_05'].mean(),2))"
   ]
  },
  {
   "cell_type": "code",
   "execution_count": 8,
   "metadata": {},
   "outputs": [
    {
     "data": {
      "text/plain": [
       "Index(['Adidas', 'Puma', 'Spokey', 'Get & Go', 'Select', 'Meteor', 'Molten',\n",
       "       'Umbro', 'Atom', 'Nike', 'Real Madrid', 'Messi', 'Avento', 'Hudora',\n",
       "       'FC Barcelona'],\n",
       "      dtype='object')"
      ]
     },
     "execution_count": 8,
     "metadata": {},
     "output_type": "execute_result"
    }
   ],
   "source": [
    "df_footballs['brand'].value_counts().index"
   ]
  },
  {
   "cell_type": "code",
   "execution_count": 9,
   "metadata": {},
   "outputs": [],
   "source": [
    "brands_to_dict = df_footballs['brand'].value_counts().to_dict()"
   ]
  },
  {
   "cell_type": "code",
   "execution_count": 10,
   "metadata": {},
   "outputs": [
    {
     "name": "stdout",
     "output_type": "stream",
     "text": [
      "Brands with less than 3 footballs available online: ['Real Madrid', 'Messi', 'Avento', 'Hudora', 'FC Barcelona']\n"
     ]
    }
   ],
   "source": [
    "brandlist = []\n",
    "for key, value in brands_to_dict.items():\n",
    "    if value > 2:\n",
    "        pass\n",
    "    else:\n",
    "        brandlist.append([key])\n",
    "        \n",
    "brandlist = list(chain(*brandlist))\n",
    "print('Brands with less than 3 footballs available online:', brandlist)"
   ]
  },
  {
   "cell_type": "code",
   "execution_count": 11,
   "metadata": {},
   "outputs": [
    {
     "name": "stdout",
     "output_type": "stream",
     "text": [
      "After excluding brands with less than 3 footballs, total rows are: 117\n"
     ]
    }
   ],
   "source": [
    "df_brands = df_footballs.set_index('brand').drop(index=brandlist, axis=1)\n",
    "print('After excluding brands with less than 3 footballs, total rows are:',df_brands.shape[0])"
   ]
  },
  {
   "cell_type": "code",
   "execution_count": 12,
   "metadata": {},
   "outputs": [
    {
     "data": {
      "text/html": [
       "<div>\n",
       "<style scoped>\n",
       "    .dataframe tbody tr th:only-of-type {\n",
       "        vertical-align: middle;\n",
       "    }\n",
       "\n",
       "    .dataframe tbody tr th {\n",
       "        vertical-align: top;\n",
       "    }\n",
       "\n",
       "    .dataframe thead th {\n",
       "        text-align: right;\n",
       "    }\n",
       "</style>\n",
       "<table border=\"1\" class=\"dataframe\">\n",
       "  <thead>\n",
       "    <tr style=\"text-align: right;\">\n",
       "      <th></th>\n",
       "      <th>price_2020_10_05</th>\n",
       "      <th>count</th>\n",
       "    </tr>\n",
       "    <tr>\n",
       "      <th>brand</th>\n",
       "      <th></th>\n",
       "      <th></th>\n",
       "    </tr>\n",
       "  </thead>\n",
       "  <tbody>\n",
       "    <tr>\n",
       "      <th>Select</th>\n",
       "      <td>39.490002</td>\n",
       "      <td>5</td>\n",
       "    </tr>\n",
       "    <tr>\n",
       "      <th>Nike</th>\n",
       "      <td>24.980000</td>\n",
       "      <td>3</td>\n",
       "    </tr>\n",
       "    <tr>\n",
       "      <th>Molten</th>\n",
       "      <td>22.840000</td>\n",
       "      <td>4</td>\n",
       "    </tr>\n",
       "    <tr>\n",
       "      <th>Adidas</th>\n",
       "      <td>21.250000</td>\n",
       "      <td>53</td>\n",
       "    </tr>\n",
       "    <tr>\n",
       "      <th>Meteor</th>\n",
       "      <td>20.490000</td>\n",
       "      <td>5</td>\n",
       "    </tr>\n",
       "    <tr>\n",
       "      <th>Puma</th>\n",
       "      <td>18.250000</td>\n",
       "      <td>22</td>\n",
       "    </tr>\n",
       "    <tr>\n",
       "      <th>Umbro</th>\n",
       "      <td>14.280000</td>\n",
       "      <td>3</td>\n",
       "    </tr>\n",
       "    <tr>\n",
       "      <th>Spokey</th>\n",
       "      <td>10.290000</td>\n",
       "      <td>13</td>\n",
       "    </tr>\n",
       "    <tr>\n",
       "      <th>Atom</th>\n",
       "      <td>6.320000</td>\n",
       "      <td>3</td>\n",
       "    </tr>\n",
       "    <tr>\n",
       "      <th>Get &amp; Go</th>\n",
       "      <td>5.730000</td>\n",
       "      <td>6</td>\n",
       "    </tr>\n",
       "  </tbody>\n",
       "</table>\n",
       "</div>"
      ],
      "text/plain": [
       "          price_2020_10_05  count\n",
       "brand                            \n",
       "Select           39.490002      5\n",
       "Nike             24.980000      3\n",
       "Molten           22.840000      4\n",
       "Adidas           21.250000     53\n",
       "Meteor           20.490000      5\n",
       "Puma             18.250000     22\n",
       "Umbro            14.280000      3\n",
       "Spokey           10.290000     13\n",
       "Atom              6.320000      3\n",
       "Get & Go          5.730000      6"
      ]
     },
     "execution_count": 12,
     "metadata": {},
     "output_type": "execute_result"
    }
   ],
   "source": [
    "price_average = df_brands.groupby(['brand'])[['price_2020_10_05']].mean().sort_values(by='price_2020_10_05', ascending=False).round(decimals=2)\n",
    "count = df_brands.groupby(['brand'])['id'].count().sort_values(ascending=False).to_dict()\n",
    "price_average[\"count\"] = pd.Series(count)\n",
    "price_average"
   ]
  },
  {
   "cell_type": "code",
   "execution_count": 13,
   "metadata": {},
   "outputs": [
    {
     "data": {
      "image/png": "[encoded data removed]",
      "text/plain": [
       "<Figure size 720x432 with 1 Axes>"
      ]
     },
     "metadata": {
      "needs_background": "light"
     },
     "output_type": "display_data"
    }
   ],
   "source": [
    "plt.figure(figsize=(10,6))\n",
    "colors = ['maroon', 'firebrick','crimson','red', 'orangered', 'tomato', 'coral', 'salmon', 'darksalmon', 'pink']\n",
    "sns.set_palette(sns.color_palette(colors))\n",
    "price_average_plot = sns.barplot(x = price_average.index, y = price_average['price_2020_10_05'], edgecolor = 'darkred')\n",
    "for item in price_average_plot.get_xticklabels():\n",
    "    item.set_rotation(65)\n",
    "plt.xticks(ha='right',fontweight='light',fontsize='large')\n",
    "[plt.gca().spines[loc].set_visible(False) for loc in ['top', 'right']]\n",
    "for a in price_average_plot.patches: \n",
    "    price_average_plot.annotate('{:.2f}'.format(a.get_height()) + ' Eur', (a.get_x()+0.4, a.get_height()),\n",
    "                            ha='center', va='bottom', color= 'black') \n",
    "plt.xlabel(None)    \n",
    "plt.ylabel(None)\n",
    "plt.title(f'Footballs price averages by brand', fontsize=25, fontstyle='italic', y=1.01, color='indianred')\n",
    "plt.figtext(.02, -.05,(\"\\n\"*4) +  \"\"\"* excluded brands with less than 3 footballs available: 'Real Madrid', 'Avento', 'Messi', 'Hudora', 'FC Barcelona'\\n\"\"\",\n",
    "            color='indianred', weight='light' ) \n",
    "plt.tight_layout()"
   ]
  },
  {
   "cell_type": "markdown",
   "metadata": {},
   "source": [
    "***Insight:*** the leader is SELECT, but this brand is represented only by 5 footballs. For comparison there are 53 Adidas footballs and 22 Puma footballs available in online shop. On the other hand SELECT specializes in high quality balls for football and futsal and do not offer a big variety at all.\n",
    "As for Nike, it presents only 3 balls here despite the fact that in the best footballs  worldwide  brand ratings this manufacturer takes the second place after the Adidas (credits: http://soccerballpicks.com/top-10-best-soccer-ball-brand/)."
   ]
  },
  {
   "cell_type": "code",
   "execution_count": 14,
   "metadata": {},
   "outputs": [
    {
     "name": "stdout",
     "output_type": "stream",
     "text": [
      "Have 15/16/17/18 in their name: 17 times\n"
     ]
    },
    {
     "data": {
      "text/html": [
       "<div>\n",
       "<style scoped>\n",
       "    .dataframe tbody tr th:only-of-type {\n",
       "        vertical-align: middle;\n",
       "    }\n",
       "\n",
       "    .dataframe tbody tr th {\n",
       "        vertical-align: top;\n",
       "    }\n",
       "\n",
       "    .dataframe thead th {\n",
       "        text-align: right;\n",
       "    }\n",
       "</style>\n",
       "<table border=\"1\" class=\"dataframe\">\n",
       "  <thead>\n",
       "    <tr style=\"text-align: right;\">\n",
       "      <th></th>\n",
       "      <th>name</th>\n",
       "      <th>color</th>\n",
       "      <th>id</th>\n",
       "      <th>price_2020_10_05</th>\n",
       "      <th>weight</th>\n",
       "      <th>package</th>\n",
       "      <th>brand</th>\n",
       "      <th>size_1</th>\n",
       "      <th>size_2</th>\n",
       "      <th>size_3</th>\n",
       "      <th>size_4</th>\n",
       "      <th>size_5</th>\n",
       "      <th>natural_grass</th>\n",
       "      <th>artifical_grass</th>\n",
       "      <th>futsal</th>\n",
       "      <th>major_material</th>\n",
       "      <th>comments</th>\n",
       "    </tr>\n",
       "  </thead>\n",
       "  <tbody>\n",
       "    <tr>\n",
       "      <th>92</th>\n",
       "      <td>Adidas EURO16 GLIDER</td>\n",
       "      <td>mix</td>\n",
       "      <td>28377860</td>\n",
       "      <td>19.950001</td>\n",
       "      <td>0.1</td>\n",
       "      <td>0.1x0.1x0.1</td>\n",
       "      <td>Adidas</td>\n",
       "      <td>0</td>\n",
       "      <td>0</td>\n",
       "      <td>0</td>\n",
       "      <td>0</td>\n",
       "      <td>1</td>\n",
       "      <td>1</td>\n",
       "      <td>0</td>\n",
       "      <td>0</td>\n",
       "      <td>PVC</td>\n",
       "      <td>0</td>\n",
       "    </tr>\n",
       "    <tr>\n",
       "      <th>95</th>\n",
       "      <td>Adidas EURO16OLP ESP C</td>\n",
       "      <td>mix</td>\n",
       "      <td>28440495</td>\n",
       "      <td>19.950001</td>\n",
       "      <td>0.1</td>\n",
       "      <td>0.1x0.1x0.1</td>\n",
       "      <td>Adidas</td>\n",
       "      <td>0</td>\n",
       "      <td>0</td>\n",
       "      <td>0</td>\n",
       "      <td>0</td>\n",
       "      <td>1</td>\n",
       "      <td>1</td>\n",
       "      <td>0</td>\n",
       "      <td>0</td>\n",
       "      <td>TPU</td>\n",
       "      <td>0</td>\n",
       "    </tr>\n",
       "    <tr>\n",
       "      <th>96</th>\n",
       "      <td>Adidas EURO16TRAINPRO</td>\n",
       "      <td>mix</td>\n",
       "      <td>28440500</td>\n",
       "      <td>28.990000</td>\n",
       "      <td>0.1</td>\n",
       "      <td>0.1x0.1x0.1</td>\n",
       "      <td>Adidas</td>\n",
       "      <td>0</td>\n",
       "      <td>0</td>\n",
       "      <td>0</td>\n",
       "      <td>0</td>\n",
       "      <td>1</td>\n",
       "      <td>1</td>\n",
       "      <td>0</td>\n",
       "      <td>0</td>\n",
       "      <td>TPU</td>\n",
       "      <td>0</td>\n",
       "    </tr>\n",
       "    <tr>\n",
       "      <th>102</th>\n",
       "      <td>Adidas Finale18CB Cpt</td>\n",
       "      <td>mix</td>\n",
       "      <td>28377490</td>\n",
       "      <td>22.950001</td>\n",
       "      <td>0.1</td>\n",
       "      <td>0.1x0.1x0.1</td>\n",
       "      <td>Adidas</td>\n",
       "      <td>0</td>\n",
       "      <td>0</td>\n",
       "      <td>0</td>\n",
       "      <td>1</td>\n",
       "      <td>1</td>\n",
       "      <td>1</td>\n",
       "      <td>0</td>\n",
       "      <td>0</td>\n",
       "      <td>TPU</td>\n",
       "      <td>0</td>\n",
       "    </tr>\n",
       "    <tr>\n",
       "      <th>108</th>\n",
       "      <td>Get &amp; Go 16SY</td>\n",
       "      <td>mix</td>\n",
       "      <td>28469530</td>\n",
       "      <td>5.490000</td>\n",
       "      <td>0.3</td>\n",
       "      <td>0.21x0.21x0.1</td>\n",
       "      <td>Get &amp; Go</td>\n",
       "      <td>0</td>\n",
       "      <td>0</td>\n",
       "      <td>0</td>\n",
       "      <td>0</td>\n",
       "      <td>1</td>\n",
       "      <td>1</td>\n",
       "      <td>0</td>\n",
       "      <td>0</td>\n",
       "      <td>PVC</td>\n",
       "      <td>0</td>\n",
       "    </tr>\n",
       "    <tr>\n",
       "      <th>112</th>\n",
       "      <td>Adidas CONEXT15GLIDER</td>\n",
       "      <td>mix</td>\n",
       "      <td>28377775</td>\n",
       "      <td>17.950001</td>\n",
       "      <td>0.1</td>\n",
       "      <td>0.1x0.1x0.1</td>\n",
       "      <td>Adidas</td>\n",
       "      <td>0</td>\n",
       "      <td>0</td>\n",
       "      <td>0</td>\n",
       "      <td>0</td>\n",
       "      <td>1</td>\n",
       "      <td>1</td>\n",
       "      <td>0</td>\n",
       "      <td>0</td>\n",
       "      <td>TPU</td>\n",
       "      <td>0</td>\n",
       "    </tr>\n",
       "    <tr>\n",
       "      <th>113</th>\n",
       "      <td>Adidas EURO16 GLIDER</td>\n",
       "      <td>mix</td>\n",
       "      <td>28377820</td>\n",
       "      <td>19.950001</td>\n",
       "      <td>0.1</td>\n",
       "      <td>0.1x0.1x0.1</td>\n",
       "      <td>Adidas</td>\n",
       "      <td>0</td>\n",
       "      <td>0</td>\n",
       "      <td>0</td>\n",
       "      <td>0</td>\n",
       "      <td>1</td>\n",
       "      <td>1</td>\n",
       "      <td>0</td>\n",
       "      <td>0</td>\n",
       "      <td>PVC</td>\n",
       "      <td>0</td>\n",
       "    </tr>\n",
       "    <tr>\n",
       "      <th>114</th>\n",
       "      <td>Adidas EURO16PRAIA X</td>\n",
       "      <td>mix</td>\n",
       "      <td>28377855</td>\n",
       "      <td>19.950001</td>\n",
       "      <td>0.1</td>\n",
       "      <td>0.1x0.1x0.1</td>\n",
       "      <td>Adidas</td>\n",
       "      <td>0</td>\n",
       "      <td>0</td>\n",
       "      <td>0</td>\n",
       "      <td>0</td>\n",
       "      <td>1</td>\n",
       "      <td>1</td>\n",
       "      <td>0</td>\n",
       "      <td>0</td>\n",
       "      <td>Rubber</td>\n",
       "      <td>0</td>\n",
       "    </tr>\n",
       "    <tr>\n",
       "      <th>121</th>\n",
       "      <td>Get &amp; Go 16SY</td>\n",
       "      <td>mix</td>\n",
       "      <td>28469525</td>\n",
       "      <td>5.490000</td>\n",
       "      <td>0.3</td>\n",
       "      <td>0.21x0.21x0.1</td>\n",
       "      <td>Get &amp; Go</td>\n",
       "      <td>0</td>\n",
       "      <td>0</td>\n",
       "      <td>0</td>\n",
       "      <td>0</td>\n",
       "      <td>1</td>\n",
       "      <td>1</td>\n",
       "      <td>0</td>\n",
       "      <td>0</td>\n",
       "      <td>PVC</td>\n",
       "      <td>0</td>\n",
       "    </tr>\n",
       "    <tr>\n",
       "      <th>122</th>\n",
       "      <td>Get &amp; Go 16SY</td>\n",
       "      <td>mix</td>\n",
       "      <td>28469535</td>\n",
       "      <td>5.490000</td>\n",
       "      <td>0.3</td>\n",
       "      <td>0.21x0.21x0.1</td>\n",
       "      <td>Get &amp; Go</td>\n",
       "      <td>0</td>\n",
       "      <td>0</td>\n",
       "      <td>0</td>\n",
       "      <td>0</td>\n",
       "      <td>1</td>\n",
       "      <td>1</td>\n",
       "      <td>0</td>\n",
       "      <td>0</td>\n",
       "      <td>PVC</td>\n",
       "      <td>0</td>\n",
       "    </tr>\n",
       "  </tbody>\n",
       "</table>\n",
       "</div>"
      ],
      "text/plain": [
       "                       name color        id  price_2020_10_05  weight  \\\n",
       "92     Adidas EURO16 GLIDER   mix  28377860         19.950001     0.1   \n",
       "95   Adidas EURO16OLP ESP C   mix  28440495         19.950001     0.1   \n",
       "96    Adidas EURO16TRAINPRO   mix  28440500         28.990000     0.1   \n",
       "102   Adidas Finale18CB Cpt   mix  28377490         22.950001     0.1   \n",
       "108           Get & Go 16SY   mix  28469530          5.490000     0.3   \n",
       "112   Adidas CONEXT15GLIDER   mix  28377775         17.950001     0.1   \n",
       "113    Adidas EURO16 GLIDER   mix  28377820         19.950001     0.1   \n",
       "114    Adidas EURO16PRAIA X   mix  28377855         19.950001     0.1   \n",
       "121           Get & Go 16SY   mix  28469525          5.490000     0.3   \n",
       "122           Get & Go 16SY   mix  28469535          5.490000     0.3   \n",
       "\n",
       "           package     brand  size_1  size_2  size_3  size_4  size_5  \\\n",
       "92     0.1x0.1x0.1    Adidas       0       0       0       0       1   \n",
       "95     0.1x0.1x0.1    Adidas       0       0       0       0       1   \n",
       "96     0.1x0.1x0.1    Adidas       0       0       0       0       1   \n",
       "102    0.1x0.1x0.1    Adidas       0       0       0       1       1   \n",
       "108  0.21x0.21x0.1  Get & Go       0       0       0       0       1   \n",
       "112    0.1x0.1x0.1    Adidas       0       0       0       0       1   \n",
       "113    0.1x0.1x0.1    Adidas       0       0       0       0       1   \n",
       "114    0.1x0.1x0.1    Adidas       0       0       0       0       1   \n",
       "121  0.21x0.21x0.1  Get & Go       0       0       0       0       1   \n",
       "122  0.21x0.21x0.1  Get & Go       0       0       0       0       1   \n",
       "\n",
       "     natural_grass  artifical_grass  futsal major_material  comments  \n",
       "92               1                0       0            PVC         0  \n",
       "95               1                0       0            TPU         0  \n",
       "96               1                0       0            TPU         0  \n",
       "102              1                0       0            TPU         0  \n",
       "108              1                0       0            PVC         0  \n",
       "112              1                0       0            TPU         0  \n",
       "113              1                0       0            PVC         0  \n",
       "114              1                0       0         Rubber         0  \n",
       "121              1                0       0            PVC         0  \n",
       "122              1                0       0            PVC         0  "
      ]
     },
     "execution_count": 14,
     "metadata": {},
     "output_type": "execute_result"
    }
   ],
   "source": [
    "mask = pd.Series(df_footballs['name']).str.contains('15|16|17|18', regex=True)\n",
    "print('Have 15/16/17/18 in their name:',df_footballs[mask].shape[1], 'times')\n",
    "df_footballs[mask].tail(10)"
   ]
  },
  {
   "cell_type": "markdown",
   "metadata": {},
   "source": [
    "Filtering/masking brands (Adidas, Select, Spokey) who uses year in the model name."
   ]
  },
  {
   "cell_type": "code",
   "execution_count": 15,
   "metadata": {},
   "outputs": [],
   "source": [
    "mask_update = pd.Series(df_footballs[mask]['name']).str.lower().str.contains('adidas|select|spokey', regex=True)\n",
    "old_models = mask_update.value_counts()[1]"
   ]
  },
  {
   "cell_type": "code",
   "execution_count": 16,
   "metadata": {},
   "outputs": [
    {
     "data": {
      "text/html": [
       "<div>\n",
       "<style scoped>\n",
       "    .dataframe tbody tr th:only-of-type {\n",
       "        vertical-align: middle;\n",
       "    }\n",
       "\n",
       "    .dataframe tbody tr th {\n",
       "        vertical-align: top;\n",
       "    }\n",
       "\n",
       "    .dataframe thead th {\n",
       "        text-align: right;\n",
       "    }\n",
       "</style>\n",
       "<table border=\"1\" class=\"dataframe\">\n",
       "  <thead>\n",
       "    <tr style=\"text-align: right;\">\n",
       "      <th></th>\n",
       "      <th>pcs</th>\n",
       "    </tr>\n",
       "  </thead>\n",
       "  <tbody>\n",
       "    <tr>\n",
       "      <th>old_models</th>\n",
       "      <td>22</td>\n",
       "    </tr>\n",
       "    <tr>\n",
       "      <th>rest</th>\n",
       "      <td>101</td>\n",
       "    </tr>\n",
       "  </tbody>\n",
       "</table>\n",
       "</div>"
      ],
      "text/plain": [
       "            pcs\n",
       "old_models   22\n",
       "rest        101"
      ]
     },
     "execution_count": 16,
     "metadata": {},
     "output_type": "execute_result"
    }
   ],
   "source": [
    "dict_models = {'old_models': old_models,'rest': df_footballs.shape[0]-old_models}\n",
    "df_models = pd.DataFrame.from_dict(dict_models,orient='index').rename(columns={0: \"pcs\"})\n",
    "df_models"
   ]
  },
  {
   "cell_type": "code",
   "execution_count": 17,
   "metadata": {},
   "outputs": [],
   "source": [
    "def plot_pie(df: pd.DataFrame,title: str):\n",
    "    pie_plot = plt.pie(df, shadow=True, startangle=90, \n",
    "                   autopct='%1.2f%%', colors=['mistyrose','salmon'])\n",
    "    plt.legend(labels=['target models', 'rest models'], loc=1)\n",
    "    plt.axis('equal')\n",
    "    plt.tight_layout()\n",
    "    plt.title(title, fontsize=15,)\n",
    "    my_circle=plt.Circle( (0,0), 0.75, color='white')\n",
    "    plt.gca().add_artist(my_circle)\n",
    "    plt.show(block=False)"
   ]
  },
  {
   "cell_type": "code",
   "execution_count": 18,
   "metadata": {},
   "outputs": [
    {
     "data": {
      "image/png": "[encoded data removed]",
      "text/plain": [
       "<Figure size 432x288 with 1 Axes>"
      ]
     },
     "metadata": {},
     "output_type": "display_data"
    }
   ],
   "source": [
    "plot_pie(df_models['pcs'],'Old model consistency in overall footballs proposal')"
   ]
  },
  {
   "cell_type": "markdown",
   "metadata": {},
   "source": [
    "***Insight:*** Inferring that every 5th football in the online shop corresponds to past football tournaments as contains 2016/2017/2018 in its name. It leads to a rather confined and out of date proposition."
   ]
  },
  {
   "cell_type": "code",
   "execution_count": 19,
   "metadata": {},
   "outputs": [],
   "source": [
    "futsal = df_footballs[(df_footballs['futsal'] == 1) & \n",
    "             (df_footballs['natural_grass'] + df_footballs['artifical_grass'] + df_footballs['futsal'] == 1) & \n",
    "             (df_footballs['size_4'] == 1)]\n",
    "count_futsal = futsal['id'].count()"
   ]
  },
  {
   "cell_type": "markdown",
   "metadata": {},
   "source": [
    "Filtering footballs which manufactured only for futsal."
   ]
  },
  {
   "cell_type": "code",
   "execution_count": 20,
   "metadata": {},
   "outputs": [
    {
     "data": {
      "text/html": [
       "<div>\n",
       "<style scoped>\n",
       "    .dataframe tbody tr th:only-of-type {\n",
       "        vertical-align: middle;\n",
       "    }\n",
       "\n",
       "    .dataframe tbody tr th {\n",
       "        vertical-align: top;\n",
       "    }\n",
       "\n",
       "    .dataframe thead th {\n",
       "        text-align: right;\n",
       "    }\n",
       "</style>\n",
       "<table border=\"1\" class=\"dataframe\">\n",
       "  <thead>\n",
       "    <tr style=\"text-align: right;\">\n",
       "      <th></th>\n",
       "      <th>pcs</th>\n",
       "    </tr>\n",
       "  </thead>\n",
       "  <tbody>\n",
       "    <tr>\n",
       "      <th>futsal_models</th>\n",
       "      <td>8</td>\n",
       "    </tr>\n",
       "    <tr>\n",
       "      <th>rest</th>\n",
       "      <td>115</td>\n",
       "    </tr>\n",
       "  </tbody>\n",
       "</table>\n",
       "</div>"
      ],
      "text/plain": [
       "               pcs\n",
       "futsal_models    8\n",
       "rest           115"
      ]
     },
     "execution_count": 20,
     "metadata": {},
     "output_type": "execute_result"
    }
   ],
   "source": [
    "dict_futsal = {'futsal_models': count_futsal,'rest': df_footballs.shape[0]-count_futsal}\n",
    "df_futsal = pd.DataFrame.from_dict(dict_futsal,orient='index').rename(columns={0: \"pcs\"})\n",
    "df_futsal"
   ]
  },
  {
   "cell_type": "code",
   "execution_count": 21,
   "metadata": {},
   "outputs": [
    {
     "data": {
      "image/png": "[encoded data removed]",
      "text/plain": [
       "<Figure size 432x288 with 1 Axes>"
      ]
     },
     "metadata": {},
     "output_type": "display_data"
    }
   ],
   "source": [
    "plot_pie(df_futsal['pcs'],'Futsal model consistency in overall footballs proposal')"
   ]
  },
  {
   "cell_type": "markdown",
   "metadata": {},
   "source": [
    "***Insight:*** Each 16th football from an online shop proposal is proper for playing futsal. The winter is coming, so a lot of semi-pro players will begin their training and competitions indoors. Also Lithuania will hold a World Futsal tournament in 2021, so the demand in the market could increase. Furthermore the demand for indoor football boots seems to rise also but it is out of scope of this analysis."
   ]
  },
  {
   "cell_type": "code",
   "execution_count": 22,
   "metadata": {},
   "outputs": [
    {
     "data": {
      "text/html": [
       "<div>\n",
       "<style scoped>\n",
       "    .dataframe tbody tr th:only-of-type {\n",
       "        vertical-align: middle;\n",
       "    }\n",
       "\n",
       "    .dataframe tbody tr th {\n",
       "        vertical-align: top;\n",
       "    }\n",
       "\n",
       "    .dataframe thead th {\n",
       "        text-align: right;\n",
       "    }\n",
       "</style>\n",
       "<table border=\"1\" class=\"dataframe\">\n",
       "  <thead>\n",
       "    <tr style=\"text-align: right;\">\n",
       "      <th></th>\n",
       "      <th>pcs</th>\n",
       "    </tr>\n",
       "  </thead>\n",
       "  <tbody>\n",
       "    <tr>\n",
       "      <th>art_grass_count</th>\n",
       "      <td>2</td>\n",
       "    </tr>\n",
       "    <tr>\n",
       "      <th>rest</th>\n",
       "      <td>121</td>\n",
       "    </tr>\n",
       "  </tbody>\n",
       "</table>\n",
       "</div>"
      ],
      "text/plain": [
       "                 pcs\n",
       "art_grass_count    2\n",
       "rest             121"
      ]
     },
     "execution_count": 22,
     "metadata": {},
     "output_type": "execute_result"
    }
   ],
   "source": [
    "art_grass = df_footballs[(df_footballs.artifical_grass == 1) & (df_footballs.futsal == 0)]\n",
    "art_grass_count = art_grass['id'].count()\n",
    "dict_artifical = {'art_grass_count': art_grass_count,'rest': df_footballs.shape[0]-art_grass_count}\n",
    "df_art_grass = pd.DataFrame.from_dict(dict_artifical,orient='index').rename(columns={0: \"pcs\"})\n",
    "df_art_grass"
   ]
  },
  {
   "cell_type": "markdown",
   "metadata": {},
   "source": [
    "Filtering footballs which designed and manufactured only for artificial grass."
   ]
  },
  {
   "cell_type": "code",
   "execution_count": 23,
   "metadata": {},
   "outputs": [
    {
     "data": {
      "image/png": "[encoded data removed]",
      "text/plain": [
       "<Figure size 432x288 with 1 Axes>"
      ]
     },
     "metadata": {},
     "output_type": "display_data"
    }
   ],
   "source": [
    "plot_pie(df_art_grass['pcs'],'Artifical grass footgalls model consistency in overall footballs proposal')"
   ]
  },
  {
   "cell_type": "markdown",
   "metadata": {},
   "source": [
    "***Insight:*** The major part of training grounds, especially in Vilnius, where is the biggest amount of football entuziasts live and train, are artifical: pitch in Snipiskes district (2 training grounds: 'Fanu' and 'Senvages' stadium), Pilaite district (1 training ground: 'Pilaites maniezas'), Fabijoniskes district (1 training ground: 'Fabijoniskiu VFM' stadium),  Karoliniskes district (1 training ground: 'BFA maniezas'), Railway district (1 training ground: 'LFF' stadium) and Virsuliskiu district (1 training ground: 'SPORTIMA maniezas'). Footballs designed especially for artifical ground has better  performance and characteristics, but their proposal is miserable."
   ]
  },
  {
   "cell_type": "code",
   "execution_count": 24,
   "metadata": {},
   "outputs": [
    {
     "data": {
      "image/png": "[encoded data removed]",
      "text/plain": [
       "<Figure size 1080x432 with 2 Axes>"
      ]
     },
     "metadata": {
      "needs_background": "light"
     },
     "output_type": "display_data"
    }
   ],
   "source": [
    "f, ax = plt.subplots(figsize=(15, 6))\n",
    "mask_corr = np.triu(np.ones_like(df_footballs.corr(method='pearson'), dtype=bool))\n",
    "sns.heatmap(df_footballs.corr(method='pearson'), annot=True, mask=mask_corr, robust=False,cmap='Reds', \n",
    "                                                                linewidths=.6, ax=ax, vmin=0, vmax=1)\n",
    "plt.title('Correlation matrix', y=1.04)\n",
    "plt.show()"
   ]
  },
  {
   "cell_type": "markdown",
   "metadata": {},
   "source": [
    "***Insight:*** Correlation between variables shows their linear relationship. There is correlation between 'size_5' and 'natural_grass', as it is obviously the most common size to play on natural pitch. Also expected correlation between 'size_4' and 'futsal' as indoor football is mainly played with smaller than regular ball size. No need to pay much heed to the correlation between 'futsal' and 'artifical_grass', hard to figure out this interplay in reality. Derivable aspect from correlation matrix could be that futsal balls are heavier and more expensive (0.36 and 0.23 accordingly)."
   ]
  },
  {
   "cell_type": "markdown",
   "metadata": {},
   "source": [
    "## Conclusion"
   ]
  },
  {
   "cell_type": "markdown",
   "metadata": {},
   "source": [
    "1) Overall it is 15 different brands but only 10 of them represent more than 2 football models in an online shop. Moreover the biggest parts are taken by Adidas (53 of 123) and Puma (22 of 123), i.e.  60.98% of proposals are represented by 2 brands. So the diversity is not equally spread.\n",
    "\n",
    "2) Average price is 19.30 Eur, price median is 19.95 Eur. It is more \"first football/family ball\" price than semi- or pro- football quality price. \n",
    "\n",
    "3) It is 6.50% futsal footballs models in proposal despite the fact that indoor season is coming and in 2021 Lithuania establishes Futsal World Cup and it can probably cause higher demand. Maybe it is an arguable point as futsal is not very popular in Lithuania, but as noticed above, the upcoming indoor season and World Tournament in 2021 can change things from the roots.\n",
    "\n",
    "4) Despite the fact that a major part of football training grounds are artificial in Vilnius, almost all balls in proposal are designed for natural grass and only 2 footballs are only for artificial ground. Of course customers can play with regular football on the artificial grass or turf pitch but it could result in worse performance, terminated warranty and shorter term of usage.\n",
    "\n",
    "On the other hand *pigu.lt* is not strongly sport oriented online shop, so these conclusions are more like recommendations and extracting one customer point of view."
   ]
  }
 ],
 "metadata": {
  "kernelspec": {
   "display_name": "Python 3",
   "language": "python",
   "name": "python3"
  },
  "language_info": {
   "codemirror_mode": {
    "name": "ipython",
    "version": 3
   },
   "file_extension": ".py",
   "mimetype": "text/x-python",
   "name": "python",
   "nbconvert_exporter": "python",
   "pygments_lexer": "ipython3",
   "version": "3.7.6"
  }
 },
 "nbformat": 4,
 "nbformat_minor": 4
}
